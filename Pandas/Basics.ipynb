{
 "cells": [
  {
   "cell_type": "code",
   "execution_count": 36,
   "id": "dfabd0b7",
   "metadata": {},
   "outputs": [],
   "source": [
    "import numpy as np\n",
    "import pandas as pd\n",
    "import math"
   ]
  },
  {
   "cell_type": "code",
   "execution_count": 3,
   "id": "5a731e7d",
   "metadata": {},
   "outputs": [],
   "source": [
    "dict ={\"Name\":[\"Ram\",\"Raj\",\"Shyam\",\"Guru\"],\n",
    "      \"Marks\":[89,69,35,78],\n",
    "       \"City\":[\"Gurgaon\",\"Hyderabad\",\"Bangalore\",\"Pune\"]}"
   ]
  },
  {
   "cell_type": "code",
   "execution_count": 4,
   "id": "915da280",
   "metadata": {},
   "outputs": [],
   "source": [
    "df=pd.DataFrame(dict) # making dataframe from dict"
   ]
  },
  {
   "cell_type": "code",
   "execution_count": 5,
   "id": "51cc157d",
   "metadata": {},
   "outputs": [
    {
     "name": "stdout",
     "output_type": "stream",
     "text": [
      "    Name  Marks       City\n",
      "0    Ram     89    Gurgaon\n",
      "1    Raj     69  Hyderabad\n",
      "2  Shyam     35  Bangalore\n",
      "3   Guru     78       Pune\n"
     ]
    }
   ],
   "source": [
    "print(df)"
   ]
  },
  {
   "cell_type": "code",
   "execution_count": 6,
   "id": "c63dcc4e",
   "metadata": {},
   "outputs": [],
   "source": [
    "df.to_csv(\"Marks.csv\")  # converting dataframe to csv file"
   ]
  },
  {
   "cell_type": "code",
   "execution_count": 7,
   "id": "3f0a3ac9",
   "metadata": {},
   "outputs": [],
   "source": [
    "df.to_csv(\"Marks_No_Index.csv\",index=False)  # without index"
   ]
  },
  {
   "cell_type": "code",
   "execution_count": 8,
   "id": "c26a2743",
   "metadata": {},
   "outputs": [
    {
     "data": {
      "text/html": [
       "<div>\n",
       "<style scoped>\n",
       "    .dataframe tbody tr th:only-of-type {\n",
       "        vertical-align: middle;\n",
       "    }\n",
       "\n",
       "    .dataframe tbody tr th {\n",
       "        vertical-align: top;\n",
       "    }\n",
       "\n",
       "    .dataframe thead th {\n",
       "        text-align: right;\n",
       "    }\n",
       "</style>\n",
       "<table border=\"1\" class=\"dataframe\">\n",
       "  <thead>\n",
       "    <tr style=\"text-align: right;\">\n",
       "      <th></th>\n",
       "      <th>Name</th>\n",
       "      <th>Marks</th>\n",
       "      <th>City</th>\n",
       "    </tr>\n",
       "  </thead>\n",
       "  <tbody>\n",
       "    <tr>\n",
       "      <th>0</th>\n",
       "      <td>Ram</td>\n",
       "      <td>89</td>\n",
       "      <td>Gurgaon</td>\n",
       "    </tr>\n",
       "    <tr>\n",
       "      <th>1</th>\n",
       "      <td>Raj</td>\n",
       "      <td>69</td>\n",
       "      <td>Hyderabad</td>\n",
       "    </tr>\n",
       "  </tbody>\n",
       "</table>\n",
       "</div>"
      ],
      "text/plain": [
       "  Name  Marks       City\n",
       "0  Ram     89    Gurgaon\n",
       "1  Raj     69  Hyderabad"
      ]
     },
     "execution_count": 8,
     "metadata": {},
     "output_type": "execute_result"
    }
   ],
   "source": [
    "df.head(2) # first 2 rows"
   ]
  },
  {
   "cell_type": "code",
   "execution_count": 9,
   "id": "9dc4657b",
   "metadata": {},
   "outputs": [
    {
     "data": {
      "text/html": [
       "<div>\n",
       "<style scoped>\n",
       "    .dataframe tbody tr th:only-of-type {\n",
       "        vertical-align: middle;\n",
       "    }\n",
       "\n",
       "    .dataframe tbody tr th {\n",
       "        vertical-align: top;\n",
       "    }\n",
       "\n",
       "    .dataframe thead th {\n",
       "        text-align: right;\n",
       "    }\n",
       "</style>\n",
       "<table border=\"1\" class=\"dataframe\">\n",
       "  <thead>\n",
       "    <tr style=\"text-align: right;\">\n",
       "      <th></th>\n",
       "      <th>Name</th>\n",
       "      <th>Marks</th>\n",
       "      <th>City</th>\n",
       "    </tr>\n",
       "  </thead>\n",
       "  <tbody>\n",
       "    <tr>\n",
       "      <th>2</th>\n",
       "      <td>Shyam</td>\n",
       "      <td>35</td>\n",
       "      <td>Bangalore</td>\n",
       "    </tr>\n",
       "    <tr>\n",
       "      <th>3</th>\n",
       "      <td>Guru</td>\n",
       "      <td>78</td>\n",
       "      <td>Pune</td>\n",
       "    </tr>\n",
       "  </tbody>\n",
       "</table>\n",
       "</div>"
      ],
      "text/plain": [
       "    Name  Marks       City\n",
       "2  Shyam     35  Bangalore\n",
       "3   Guru     78       Pune"
      ]
     },
     "execution_count": 9,
     "metadata": {},
     "output_type": "execute_result"
    }
   ],
   "source": [
    "df.tail(2)  # last 2 rows"
   ]
  },
  {
   "cell_type": "code",
   "execution_count": 10,
   "id": "1b15264d",
   "metadata": {},
   "outputs": [
    {
     "data": {
      "text/html": [
       "<div>\n",
       "<style scoped>\n",
       "    .dataframe tbody tr th:only-of-type {\n",
       "        vertical-align: middle;\n",
       "    }\n",
       "\n",
       "    .dataframe tbody tr th {\n",
       "        vertical-align: top;\n",
       "    }\n",
       "\n",
       "    .dataframe thead th {\n",
       "        text-align: right;\n",
       "    }\n",
       "</style>\n",
       "<table border=\"1\" class=\"dataframe\">\n",
       "  <thead>\n",
       "    <tr style=\"text-align: right;\">\n",
       "      <th></th>\n",
       "      <th>Marks</th>\n",
       "    </tr>\n",
       "  </thead>\n",
       "  <tbody>\n",
       "    <tr>\n",
       "      <th>count</th>\n",
       "      <td>4.000000</td>\n",
       "    </tr>\n",
       "    <tr>\n",
       "      <th>mean</th>\n",
       "      <td>67.750000</td>\n",
       "    </tr>\n",
       "    <tr>\n",
       "      <th>std</th>\n",
       "      <td>23.314874</td>\n",
       "    </tr>\n",
       "    <tr>\n",
       "      <th>min</th>\n",
       "      <td>35.000000</td>\n",
       "    </tr>\n",
       "    <tr>\n",
       "      <th>25%</th>\n",
       "      <td>60.500000</td>\n",
       "    </tr>\n",
       "    <tr>\n",
       "      <th>50%</th>\n",
       "      <td>73.500000</td>\n",
       "    </tr>\n",
       "    <tr>\n",
       "      <th>75%</th>\n",
       "      <td>80.750000</td>\n",
       "    </tr>\n",
       "    <tr>\n",
       "      <th>max</th>\n",
       "      <td>89.000000</td>\n",
       "    </tr>\n",
       "  </tbody>\n",
       "</table>\n",
       "</div>"
      ],
      "text/plain": [
       "           Marks\n",
       "count   4.000000\n",
       "mean   67.750000\n",
       "std    23.314874\n",
       "min    35.000000\n",
       "25%    60.500000\n",
       "50%    73.500000\n",
       "75%    80.750000\n",
       "max    89.000000"
      ]
     },
     "execution_count": 10,
     "metadata": {},
     "output_type": "execute_result"
    }
   ],
   "source": [
    "df.describe() # gives statistical details of the data"
   ]
  },
  {
   "cell_type": "code",
   "execution_count": 13,
   "metadata": {},
   "outputs": [
    {
     "name": "stdout",
     "output_type": "stream",
     "text": [
      "<class 'pandas.core.frame.DataFrame'>\n",
      "RangeIndex: 4 entries, 0 to 3\n",
      "Data columns (total 3 columns):\n",
      " #   Column  Non-Null Count  Dtype \n",
      "---  ------  --------------  ----- \n",
      " 0   Name    4 non-null      object\n",
      " 1   Marks   4 non-null      int64 \n",
      " 2   City    4 non-null      object\n",
      "dtypes: int64(1), object(2)\n",
      "memory usage: 224.0+ bytes\n"
     ]
    }
   ],
   "source": [
    "df.info()  # info about the dataframe"
   ]
  },
  {
   "cell_type": "code",
   "execution_count": 17,
   "metadata": {},
   "outputs": [
    {
     "name": "stdout",
     "output_type": "stream",
     "text": [
      "       Train  Number       City\n",
      "0    Doronto   12365    Gurgaon\n",
      "1  Shatabdhi   13654  Hyderabad\n",
      "2   Rajdhani   14563  Bangalore\n",
      "3     Sabari   12369       Pune\n"
     ]
    }
   ],
   "source": [
    "train=pd.read_csv(\"train.csv\")\n",
    "print(train)"
   ]
  },
  {
   "cell_type": "code",
   "execution_count": 31,
   "metadata": {},
   "outputs": [
    {
     "data": {
      "text/html": [
       "<div>\n",
       "<style scoped>\n",
       "    .dataframe tbody tr th:only-of-type {\n",
       "        vertical-align: middle;\n",
       "    }\n",
       "\n",
       "    .dataframe tbody tr th {\n",
       "        vertical-align: top;\n",
       "    }\n",
       "\n",
       "    .dataframe thead th {\n",
       "        text-align: right;\n",
       "    }\n",
       "</style>\n",
       "<table border=\"1\" class=\"dataframe\">\n",
       "  <thead>\n",
       "    <tr style=\"text-align: right;\">\n",
       "      <th></th>\n",
       "      <th>Train</th>\n",
       "      <th>Number</th>\n",
       "      <th>City</th>\n",
       "    </tr>\n",
       "  </thead>\n",
       "  <tbody>\n",
       "    <tr>\n",
       "      <th>1</th>\n",
       "      <td>Doronto</td>\n",
       "      <td>12365</td>\n",
       "      <td>Gurgaon</td>\n",
       "    </tr>\n",
       "    <tr>\n",
       "      <th>2</th>\n",
       "      <td>Shatabdhi</td>\n",
       "      <td>13654</td>\n",
       "      <td>Hyderabad</td>\n",
       "    </tr>\n",
       "    <tr>\n",
       "      <th>3</th>\n",
       "      <td>Rajdhani</td>\n",
       "      <td>14563</td>\n",
       "      <td>Bangalore</td>\n",
       "    </tr>\n",
       "    <tr>\n",
       "      <th>4</th>\n",
       "      <td>Sabari</td>\n",
       "      <td>12369</td>\n",
       "      <td>Pune</td>\n",
       "    </tr>\n",
       "  </tbody>\n",
       "</table>\n",
       "</div>"
      ],
      "text/plain": [
       "       Train  Number       City\n",
       "1    Doronto   12365    Gurgaon\n",
       "2  Shatabdhi   13654  Hyderabad\n",
       "3   Rajdhani   14563  Bangalore\n",
       "4     Sabari   12369       Pune"
      ]
     },
     "execution_count": 31,
     "metadata": {},
     "output_type": "execute_result"
    }
   ],
   "source": [
    "# def ls(n):\n",
    "#     i=1\n",
    "#     for i in range(n):\n",
    "#         yield i+1\n",
    "# train.index=ls(len(train))\n",
    "\n",
    "# train.index=[1,2,3,4]\n",
    "train"
   ]
  },
  {
   "cell_type": "code",
   "execution_count": 53,
   "metadata": {},
   "outputs": [
    {
     "data": {
      "text/plain": [
       "0    0.518412\n",
       "1    1.603219\n",
       "2    2.894456\n",
       "3    5.090295\n",
       "4    0.947109\n",
       "5    4.274650\n",
       "6    7.414638\n",
       "7    2.852845\n",
       "8    9.223250\n",
       "9    8.488411\n",
       "dtype: float64"
      ]
     },
     "execution_count": 53,
     "metadata": {},
     "output_type": "execute_result"
    }
   ],
   "source": [
    "ser=pd.Series((np.random.rand(10))*10)\n",
    "ser"
   ]
  },
  {
   "cell_type": "code",
   "execution_count": 49,
   "metadata": {},
   "outputs": [
    {
     "data": {
      "text/plain": [
       "pandas.core.series.Series"
      ]
     },
     "execution_count": 49,
     "metadata": {},
     "output_type": "execute_result"
    }
   ],
   "source": [
    "type(ser)"
   ]
  },
  {
   "cell_type": "code",
   "execution_count": 58,
   "metadata": {},
   "outputs": [
    {
     "data": {
      "text/html": [
       "<div>\n",
       "<style scoped>\n",
       "    .dataframe tbody tr th:only-of-type {\n",
       "        vertical-align: middle;\n",
       "    }\n",
       "\n",
       "    .dataframe tbody tr th {\n",
       "        vertical-align: top;\n",
       "    }\n",
       "\n",
       "    .dataframe thead th {\n",
       "        text-align: right;\n",
       "    }\n",
       "</style>\n",
       "<table border=\"1\" class=\"dataframe\">\n",
       "  <thead>\n",
       "    <tr style=\"text-align: right;\">\n",
       "      <th></th>\n",
       "      <th>0</th>\n",
       "      <th>1</th>\n",
       "      <th>2</th>\n",
       "      <th>3</th>\n",
       "      <th>4</th>\n",
       "    </tr>\n",
       "  </thead>\n",
       "  <tbody>\n",
       "    <tr>\n",
       "      <th>0</th>\n",
       "      <td>0.114882</td>\n",
       "      <td>0.444578</td>\n",
       "      <td>0.387023</td>\n",
       "      <td>0.936953</td>\n",
       "      <td>0.895224</td>\n",
       "    </tr>\n",
       "    <tr>\n",
       "      <th>1</th>\n",
       "      <td>0.170340</td>\n",
       "      <td>0.837541</td>\n",
       "      <td>0.686888</td>\n",
       "      <td>0.684797</td>\n",
       "      <td>0.662975</td>\n",
       "    </tr>\n",
       "    <tr>\n",
       "      <th>2</th>\n",
       "      <td>0.078500</td>\n",
       "      <td>0.758287</td>\n",
       "      <td>0.912369</td>\n",
       "      <td>0.277404</td>\n",
       "      <td>0.806145</td>\n",
       "    </tr>\n",
       "    <tr>\n",
       "      <th>3</th>\n",
       "      <td>0.281285</td>\n",
       "      <td>0.612919</td>\n",
       "      <td>0.392783</td>\n",
       "      <td>0.754336</td>\n",
       "      <td>0.671592</td>\n",
       "    </tr>\n",
       "    <tr>\n",
       "      <th>4</th>\n",
       "      <td>0.150205</td>\n",
       "      <td>0.397742</td>\n",
       "      <td>0.073208</td>\n",
       "      <td>0.026029</td>\n",
       "      <td>0.364423</td>\n",
       "    </tr>\n",
       "    <tr>\n",
       "      <th>...</th>\n",
       "      <td>...</td>\n",
       "      <td>...</td>\n",
       "      <td>...</td>\n",
       "      <td>...</td>\n",
       "      <td>...</td>\n",
       "    </tr>\n",
       "    <tr>\n",
       "      <th>95</th>\n",
       "      <td>0.372456</td>\n",
       "      <td>0.553609</td>\n",
       "      <td>0.770727</td>\n",
       "      <td>0.917227</td>\n",
       "      <td>0.316970</td>\n",
       "    </tr>\n",
       "    <tr>\n",
       "      <th>96</th>\n",
       "      <td>0.047922</td>\n",
       "      <td>0.550775</td>\n",
       "      <td>0.990051</td>\n",
       "      <td>0.114492</td>\n",
       "      <td>0.895104</td>\n",
       "    </tr>\n",
       "    <tr>\n",
       "      <th>97</th>\n",
       "      <td>0.876749</td>\n",
       "      <td>0.875081</td>\n",
       "      <td>0.685398</td>\n",
       "      <td>0.544539</td>\n",
       "      <td>0.979513</td>\n",
       "    </tr>\n",
       "    <tr>\n",
       "      <th>98</th>\n",
       "      <td>0.880706</td>\n",
       "      <td>0.715901</td>\n",
       "      <td>0.935628</td>\n",
       "      <td>0.149539</td>\n",
       "      <td>0.510822</td>\n",
       "    </tr>\n",
       "    <tr>\n",
       "      <th>99</th>\n",
       "      <td>0.407700</td>\n",
       "      <td>0.270356</td>\n",
       "      <td>0.163855</td>\n",
       "      <td>0.007510</td>\n",
       "      <td>0.365460</td>\n",
       "    </tr>\n",
       "  </tbody>\n",
       "</table>\n",
       "<p>100 rows × 5 columns</p>\n",
       "</div>"
      ],
      "text/plain": [
       "           0         1         2         3         4\n",
       "0   0.114882  0.444578  0.387023  0.936953  0.895224\n",
       "1   0.170340  0.837541  0.686888  0.684797  0.662975\n",
       "2   0.078500  0.758287  0.912369  0.277404  0.806145\n",
       "3   0.281285  0.612919  0.392783  0.754336  0.671592\n",
       "4   0.150205  0.397742  0.073208  0.026029  0.364423\n",
       "..       ...       ...       ...       ...       ...\n",
       "95  0.372456  0.553609  0.770727  0.917227  0.316970\n",
       "96  0.047922  0.550775  0.990051  0.114492  0.895104\n",
       "97  0.876749  0.875081  0.685398  0.544539  0.979513\n",
       "98  0.880706  0.715901  0.935628  0.149539  0.510822\n",
       "99  0.407700  0.270356  0.163855  0.007510  0.365460\n",
       "\n",
       "[100 rows x 5 columns]"
      ]
     },
     "execution_count": 58,
     "metadata": {},
     "output_type": "execute_result"
    }
   ],
   "source": [
    "newdf=pd.DataFrame(np.random.rand(100,5),index=np.arange(100))\n",
    "newdf"
   ]
  },
  {
   "cell_type": "code",
   "execution_count": 60,
   "metadata": {},
   "outputs": [
    {
     "data": {
      "text/html": [
       "<div>\n",
       "<style scoped>\n",
       "    .dataframe tbody tr th:only-of-type {\n",
       "        vertical-align: middle;\n",
       "    }\n",
       "\n",
       "    .dataframe tbody tr th {\n",
       "        vertical-align: top;\n",
       "    }\n",
       "\n",
       "    .dataframe thead th {\n",
       "        text-align: right;\n",
       "    }\n",
       "</style>\n",
       "<table border=\"1\" class=\"dataframe\">\n",
       "  <thead>\n",
       "    <tr style=\"text-align: right;\">\n",
       "      <th></th>\n",
       "      <th>0</th>\n",
       "      <th>1</th>\n",
       "      <th>2</th>\n",
       "      <th>3</th>\n",
       "      <th>4</th>\n",
       "    </tr>\n",
       "  </thead>\n",
       "  <tbody>\n",
       "    <tr>\n",
       "      <th>count</th>\n",
       "      <td>100.000000</td>\n",
       "      <td>100.000000</td>\n",
       "      <td>100.000000</td>\n",
       "      <td>100.000000</td>\n",
       "      <td>100.000000</td>\n",
       "    </tr>\n",
       "    <tr>\n",
       "      <th>mean</th>\n",
       "      <td>0.440598</td>\n",
       "      <td>0.530884</td>\n",
       "      <td>0.508118</td>\n",
       "      <td>0.527551</td>\n",
       "      <td>0.549639</td>\n",
       "    </tr>\n",
       "    <tr>\n",
       "      <th>std</th>\n",
       "      <td>0.275277</td>\n",
       "      <td>0.280630</td>\n",
       "      <td>0.294709</td>\n",
       "      <td>0.302350</td>\n",
       "      <td>0.271619</td>\n",
       "    </tr>\n",
       "    <tr>\n",
       "      <th>min</th>\n",
       "      <td>0.005473</td>\n",
       "      <td>0.000358</td>\n",
       "      <td>0.022974</td>\n",
       "      <td>0.005641</td>\n",
       "      <td>0.008697</td>\n",
       "    </tr>\n",
       "    <tr>\n",
       "      <th>25%</th>\n",
       "      <td>0.212967</td>\n",
       "      <td>0.292359</td>\n",
       "      <td>0.245220</td>\n",
       "      <td>0.269591</td>\n",
       "      <td>0.355961</td>\n",
       "    </tr>\n",
       "    <tr>\n",
       "      <th>50%</th>\n",
       "      <td>0.380407</td>\n",
       "      <td>0.575596</td>\n",
       "      <td>0.520909</td>\n",
       "      <td>0.546387</td>\n",
       "      <td>0.528330</td>\n",
       "    </tr>\n",
       "    <tr>\n",
       "      <th>75%</th>\n",
       "      <td>0.675933</td>\n",
       "      <td>0.755201</td>\n",
       "      <td>0.778729</td>\n",
       "      <td>0.808379</td>\n",
       "      <td>0.782683</td>\n",
       "    </tr>\n",
       "    <tr>\n",
       "      <th>max</th>\n",
       "      <td>0.992983</td>\n",
       "      <td>0.978161</td>\n",
       "      <td>0.994063</td>\n",
       "      <td>0.993879</td>\n",
       "      <td>0.997460</td>\n",
       "    </tr>\n",
       "  </tbody>\n",
       "</table>\n",
       "</div>"
      ],
      "text/plain": [
       "                0           1           2           3           4\n",
       "count  100.000000  100.000000  100.000000  100.000000  100.000000\n",
       "mean     0.440598    0.530884    0.508118    0.527551    0.549639\n",
       "std      0.275277    0.280630    0.294709    0.302350    0.271619\n",
       "min      0.005473    0.000358    0.022974    0.005641    0.008697\n",
       "25%      0.212967    0.292359    0.245220    0.269591    0.355961\n",
       "50%      0.380407    0.575596    0.520909    0.546387    0.528330\n",
       "75%      0.675933    0.755201    0.778729    0.808379    0.782683\n",
       "max      0.992983    0.978161    0.994063    0.993879    0.997460"
      ]
     },
     "execution_count": 60,
     "metadata": {},
     "output_type": "execute_result"
    }
   ],
   "source": [
    "type(newdf)\n",
    "newdf.describe()  # returns statistical details"
   ]
  },
  {
   "cell_type": "code",
   "execution_count": 62,
   "metadata": {},
   "outputs": [
    {
     "data": {
      "text/plain": [
       "0    float64\n",
       "1    float64\n",
       "2    float64\n",
       "3    float64\n",
       "4    float64\n",
       "dtype: object"
      ]
     },
     "execution_count": 62,
     "metadata": {},
     "output_type": "execute_result"
    }
   ],
   "source": [
    "newdf.dtypes  # returns datatypes of columns"
   ]
  },
  {
   "cell_type": "code",
   "execution_count": null,
   "metadata": {},
   "outputs": [],
   "source": []
  }
 ],
 "metadata": {
  "interpreter": {
   "hash": "63fd5069d213b44bf678585dea6b12cceca9941eaf7f819626cde1f2670de90d"
  },
  "kernelspec": {
   "display_name": "Python 3.9.6 64-bit",
   "name": "python3"
  },
  "language_info": {
   "codemirror_mode": {
    "name": "ipython",
    "version": 3
   },
   "file_extension": ".py",
   "mimetype": "text/x-python",
   "name": "python",
   "nbconvert_exporter": "python",
   "pygments_lexer": "ipython3",
   "version": "3.9.6"
  }
 },
 "nbformat": 4,
 "nbformat_minor": 5
}
